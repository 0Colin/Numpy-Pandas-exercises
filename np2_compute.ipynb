{
 "cells": [
  {
   "cell_type": "code",
   "execution_count": 1,
   "metadata": {},
   "outputs": [
    {
     "data": {
      "text/plain": [
       "array([ True, False, False, False])"
      ]
     },
     "execution_count": 1,
     "metadata": {},
     "output_type": "execute_result"
    }
   ],
   "source": [
    "import numpy as np\n",
    "\n",
    "vector = np.array([10,43,54,23])\n",
    "# 判断vector里面有没有值等于10\n",
    "vector == 10  #返回是一个数组，会对ndarray里面每一个元素都进行相同的操作"
   ]
  },
  {
   "cell_type": "code",
   "execution_count": 2,
   "metadata": {},
   "outputs": [
    {
     "data": {
      "text/plain": [
       "array([[False, False,  True, False],\n",
       "       [False, False, False, False]])"
      ]
     },
     "execution_count": 2,
     "metadata": {},
     "output_type": "execute_result"
    }
   ],
   "source": [
    "matrix = np.array([\n",
    "    [4,2,6,7],\n",
    "    [7,3,7,2]\n",
    "])\n",
    "matrix == 6"
   ]
  },
  {
   "cell_type": "code",
   "execution_count": 3,
   "metadata": {},
   "outputs": [
    {
     "name": "stdout",
     "output_type": "stream",
     "text": [
      "[10]\n"
     ]
    }
   ],
   "source": [
    "vector = np.array([10,43,54,23])\n",
    "# 将得到一个布尔的ndarray\n",
    "equal_to_sth = (vector == 10)\n",
    "# 这个equal_to_sth可以作为索引，将我们需要的equal值取出来\n",
    "print(vector[equal_to_sth])"
   ]
  },
  {
   "cell_type": "code",
   "execution_count": 4,
   "metadata": {},
   "outputs": [
    {
     "name": "stdout",
     "output_type": "stream",
     "text": [
      "[ True False  True]\n",
      "[[4 2 6 7]\n",
      " [5 3 6 7]]\n"
     ]
    }
   ],
   "source": [
    "matrix = np.array([\n",
    "    [4,2,6,7],\n",
    "    [7,3,7,2],\n",
    "    [5,3,6,7]\n",
    "])\n",
    "equal_to_sth = (matrix[:,3] == 7)\n",
    "print(equal_to_sth)\n",
    "# 下列操作，将会直接定位到true的行当中\n",
    "print(matrix[equal_to_sth,:])"
   ]
  },
  {
   "cell_type": "code",
   "execution_count": 5,
   "metadata": {},
   "outputs": [
    {
     "name": "stdout",
     "output_type": "stream",
     "text": [
      "[False False False False]\n"
     ]
    }
   ],
   "source": [
    "# 与\n",
    "vector = np.array([5,43,9,23])\n",
    "# 一个元素，既让他满足第一个条件，又让它满足第二个条件（这里是不可能既等于5又等于9）\n",
    "\n",
    "equal_to_59 = (vector == 5) & (vector == 9)\n",
    "print(equal_to_59)"
   ]
  },
  {
   "cell_type": "code",
   "execution_count": 6,
   "metadata": {},
   "outputs": [
    {
     "name": "stdout",
     "output_type": "stream",
     "text": [
      "[ True False  True False]\n"
     ]
    }
   ],
   "source": [
    "# 或\n",
    "vector = np.array([5,43,9,23])\n",
    "# 和上面同理\n",
    "equal_to_59 = (vector == 5) | (vector == 9)\n",
    "print(equal_to_59)"
   ]
  },
  {
   "cell_type": "code",
   "execution_count": 7,
   "metadata": {},
   "outputs": [
    {
     "name": "stdout",
     "output_type": "stream",
     "text": [
      "[ 7 43  7 23]\n"
     ]
    }
   ],
   "source": [
    "# 索引赋值\n",
    "vector = np.array([5,43,9,23])\n",
    "\n",
    "equal_to_59 = (vector == 5) | (vector == 9)\n",
    "vector[equal_to_59] = 7\n",
    "print(vector)"
   ]
  },
  {
   "cell_type": "code",
   "execution_count": 8,
   "metadata": {},
   "outputs": [
    {
     "name": "stdout",
     "output_type": "stream",
     "text": [
      "[[4 2 6 7]\n",
      " [7 3 7 1]\n",
      " [5 3 6 7]]\n"
     ]
    }
   ],
   "source": [
    "matrix = np.array([\n",
    "    [4,2,6,7],\n",
    "    [7,3,7,2],\n",
    "    [5,3,6,7]\n",
    "])\n",
    "equal_to_sth = matrix[:,3] == 2\n",
    "\n",
    "matrix[equal_to_sth,3] = 1\n",
    "print(matrix)"
   ]
  },
  {
   "cell_type": "code",
   "execution_count": 13,
   "metadata": {},
   "outputs": [
    {
     "name": "stdout",
     "output_type": "stream",
     "text": [
      "[ 5 43  9 23]\n",
      "int32\n",
      "[ 5. 43.  9. 23.]\n",
      "float64\n"
     ]
    }
   ],
   "source": [
    "vector = np.array([5,43,9,23])\n",
    "print(vector)\n",
    "print(vector.dtype)\n",
    "vector = vector.astype(float)\n",
    "print(vector)\n",
    "print(vector.dtype)"
   ]
  },
  {
   "cell_type": "code",
   "execution_count": 14,
   "metadata": {},
   "outputs": [
    {
     "data": {
      "text/plain": [
       "5"
      ]
     },
     "execution_count": 14,
     "metadata": {},
     "output_type": "execute_result"
    }
   ],
   "source": [
    "vector = np.array([5,43,9,23])\n",
    "vector.min()"
   ]
  },
  {
   "cell_type": "code",
   "execution_count": 15,
   "metadata": {},
   "outputs": [
    {
     "data": {
      "text/plain": [
       "array([19, 19, 21])"
      ]
     },
     "execution_count": 15,
     "metadata": {},
     "output_type": "execute_result"
    }
   ],
   "source": [
    "matrix = np.array([\n",
    "    [4,2,6,7],\n",
    "    [7,3,7,2],\n",
    "    [5,3,6,7]\n",
    "])\n",
    "# 通过维度设定，对每一行求和\n",
    "matrix.sum(axis=1)"
   ]
  },
  {
   "cell_type": "code",
   "execution_count": 16,
   "metadata": {},
   "outputs": [
    {
     "data": {
      "text/plain": [
       "array([16,  8, 19, 16])"
      ]
     },
     "execution_count": 16,
     "metadata": {},
     "output_type": "execute_result"
    }
   ],
   "source": [
    "matrix = np.array([\n",
    "    [4,2,6,7],\n",
    "    [7,3,7,2],\n",
    "    [5,3,6,7]\n",
    "])\n",
    "# 通过维度设定，对每一列求和\n",
    "matrix.sum(axis=0)"
   ]
  },
  {
   "cell_type": "code",
   "execution_count": null,
   "metadata": {},
   "outputs": [],
   "source": []
  }
 ],
 "metadata": {
  "kernelspec": {
   "display_name": "Python 3",
   "language": "python",
   "name": "python3"
  },
  "language_info": {
   "codemirror_mode": {
    "name": "ipython",
    "version": 3
   },
   "file_extension": ".py",
   "mimetype": "text/x-python",
   "name": "python",
   "nbconvert_exporter": "python",
   "pygments_lexer": "ipython3",
   "version": "3.7.3"
  }
 },
 "nbformat": 4,
 "nbformat_minor": 2
}
