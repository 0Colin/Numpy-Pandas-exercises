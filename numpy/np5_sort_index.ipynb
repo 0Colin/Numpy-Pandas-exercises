{
 "cells": [
  {
   "cell_type": "code",
   "execution_count": 6,
   "metadata": {},
   "outputs": [
    {
     "name": "stdout",
     "output_type": "stream",
     "text": [
      "[[ 0.          0.84147098  0.90929743  0.14112001]\n",
      " [-0.7568025  -0.95892427 -0.2794155   0.6569866 ]\n",
      " [ 0.98935825  0.41211849 -0.54402111 -0.99999021]\n",
      " [-0.53657292  0.42016704  0.99060736  0.65028784]\n",
      " [-0.28790332 -0.96139749 -0.75098725  0.14987721]]\n",
      "[2 0 3 1]\n",
      "range(0, 4)\n",
      "[0.98935825 0.84147098 0.99060736 0.6569866 ]\n"
     ]
    }
   ],
   "source": [
    "import numpy as np\n",
    "data = np.sin(np.arange(20).reshape(5,-1))\n",
    "print(data)\n",
    "# 按照列来取出每一列最大值的索引\n",
    "ind = data.argmax(axis=0)\n",
    "print(ind)\n",
    "print(range(data.shape[1]))\n",
    "# data.shape是一个数组，第一个元素是行数，第二个元素是列数\n",
    "#range（4）相当于range(0,4)去迭代每一列（取不到4），而前面的ind相当于迭代每一行\n",
    "data_max = data[ind,range(data.shape[1])]\n",
    "print (data_max)"
   ]
  },
  {
   "cell_type": "code",
   "execution_count": 7,
   "metadata": {},
   "outputs": [
    {
     "name": "stdout",
     "output_type": "stream",
     "text": [
      "[ 0 10 20 30]\n",
      "[[ 0 10 20 30  0 10 20 30]\n",
      " [ 0 10 20 30  0 10 20 30]]\n"
     ]
    }
   ],
   "source": [
    "a = np.arange(0,40,10)\n",
    "print(a)\n",
    "\n",
    "# 先行扩宽成两杯，然后列也扩宽两倍\n",
    "b = np.tile(a,(2,2))\n",
    "\n",
    "print(b)"
   ]
  },
  {
   "cell_type": "code",
   "execution_count": 15,
   "metadata": {},
   "outputs": [
    {
     "name": "stdout",
     "output_type": "stream",
     "text": [
      "[[4 3 5]\n",
      " [1 2 1]]\n",
      "[[3 4 5]\n",
      " [1 1 2]]\n",
      "--------------------------------------------\n",
      "[0 2 1 3]\n",
      "[3 4 5 6]\n",
      "[3 5 4 6]\n",
      "[3 4 5 6]\n"
     ]
    }
   ],
   "source": [
    "a = np.array([\n",
    "    [4,3,5],\n",
    "    [1,2,1]\n",
    "])\n",
    "print (a)\n",
    "\n",
    "# axis=1是对行从小到大排序，0是对列从小到大排序\n",
    "b = np.sort(a,axis = 1)\n",
    "print(b)\n",
    "\n",
    "a = np.array([3,5,4,6])\n",
    "print ('--------------------------------------------')\n",
    "# 可以求出最大值的索引，索引值从小到大\n",
    "j = np.argsort(a)\n",
    "print (j)\n",
    "\n",
    "# 再传递回去a,就得到一个排序好的结果,显示的时候是这样显示,但是实际上a的值没有改变\n",
    "# a[0] = a[0],a[1] = a[2],,,\n",
    "print (a[j])\n",
    "print (a)\n",
    "# a = a[j]\n",
    "# print (a)"
   ]
  },
  {
   "cell_type": "code",
   "execution_count": null,
   "metadata": {},
   "outputs": [],
   "source": []
  }
 ],
 "metadata": {
  "kernelspec": {
   "display_name": "Python 3",
   "language": "python",
   "name": "python3"
  },
  "language_info": {
   "codemirror_mode": {
    "name": "ipython",
    "version": 3
   },
   "file_extension": ".py",
   "mimetype": "text/x-python",
   "name": "python",
   "nbconvert_exporter": "python",
   "pygments_lexer": "ipython3",
   "version": "3.7.3"
  }
 },
 "nbformat": 4,
 "nbformat_minor": 2
}
