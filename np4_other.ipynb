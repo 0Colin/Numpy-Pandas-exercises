{
 "cells": [
  {
   "cell_type": "code",
   "execution_count": 1,
   "metadata": {},
   "outputs": [
    {
     "name": "stdout",
     "output_type": "stream",
     "text": [
      "[1.         2.71828183 7.3890561 ]\n",
      "[0.         1.         1.41421356]\n"
     ]
    }
   ],
   "source": [
    "import numpy as np\n",
    "\n",
    "B = np.arange(3)\n",
    "\n",
    "# 表示e的多少次幂\n",
    "print(np.exp(B))\n",
    "# 表示对B的每个元素求根\n",
    "print(np.sqrt(B))"
   ]
  },
  {
   "cell_type": "code",
   "execution_count": 2,
   "metadata": {},
   "outputs": [
    {
     "name": "stdout",
     "output_type": "stream",
     "text": [
      "[[2. 2. 3. 1.]\n",
      " [7. 4. 7. 0.]\n",
      " [3. 8. 6. 8.]]\n",
      "---------------------------------------------\n",
      "[2. 2. 3. 1. 7. 4. 7. 0. 3. 8. 6. 8.]\n",
      "[[2. 2. 3. 1. 7. 4.]\n",
      " [7. 0. 3. 8. 6. 8.]]\n",
      "---------------------------------------------\n",
      "[[2. 2. 3. 1. 7. 4.]\n",
      " [7. 0. 3. 8. 6. 8.]]\n",
      "---------------------------------------------\n",
      "[[2. 7.]\n",
      " [2. 0.]\n",
      " [3. 3.]\n",
      " [1. 8.]\n",
      " [7. 6.]\n",
      " [4. 8.]]\n",
      "---------------------------------------------\n",
      "[[2. 2. 3. 1. 7. 4.]\n",
      " [7. 0. 3. 8. 6. 8.]]\n"
     ]
    }
   ],
   "source": [
    "# 矩阵变换\n",
    "# 注意：random生成的val是-1到1区间的，floor是向下取整\n",
    "a = np.floor(10*np.random.random((3,4)))\n",
    "print(a)\n",
    "print(\"---------------------------------------------\")\n",
    "# 把矩阵拉平，将矩阵拉平为一个向量，（按照每一行拉平）\n",
    "print(a.ravel())\n",
    "\n",
    "# 如果shape其中一个值确定，另一个值指定为-1，那么将会自动计算\n",
    "# a.reshape(2,-1)\n",
    "# 不能只打印a，因为这里返回的是一个新的矩阵，并不是把a的矩阵已经变换了\n",
    "print(a.reshape(-1,6))\n",
    "print(\"---------------------------------------------\")\n",
    "a.shape = (2,6)\n",
    "print(a)\n",
    "print(\"---------------------------------------------\")\n",
    "# 转置，第一列变成第一行，诸如此类\n",
    "print(a.T)\n",
    "print(\"---------------------------------------------\")\n",
    "a.reshape(4,-1)\n",
    "print(a)"
   ]
  },
  {
   "cell_type": "code",
   "execution_count": 3,
   "metadata": {},
   "outputs": [
    {
     "name": "stdout",
     "output_type": "stream",
     "text": [
      "[[4. 7.]\n",
      " [6. 6.]]\n",
      "[[3. 1.]\n",
      " [0. 4.]]\n",
      "[[4. 7. 3. 1.]\n",
      " [6. 6. 0. 4.]]\n",
      "[[4. 7.]\n",
      " [6. 6.]\n",
      " [3. 1.]\n",
      " [0. 4.]]\n"
     ]
    }
   ],
   "source": [
    "# 矩阵拼接\n",
    "a = np.floor(10*np.random.random((2,2)))\n",
    "b = np.floor(10*np.random.random((2,2)))\n",
    "\n",
    "print(a)\n",
    "print(b)\n",
    "# 横着拼接,horizontal\n",
    "print(np.hstack((a,b)))\n",
    "# 竖着拼接,vertical\n",
    "print(np.vstack((a,b)))"
   ]
  },
  {
   "cell_type": "code",
   "execution_count": 16,
   "metadata": {},
   "outputs": [
    {
     "name": "stdout",
     "output_type": "stream",
     "text": [
      "[[0. 9. 3. 7. 2. 9. 6. 8. 8. 0. 7. 3.]\n",
      " [0. 4. 5. 5. 5. 1. 1. 3. 8. 7. 3. 3.]]\n",
      "[array([[0., 9., 3., 7.],\n",
      "       [0., 4., 5., 5.]]), array([[2., 9., 6., 8.],\n",
      "       [5., 1., 1., 3.]]), array([[8., 0., 7., 3.],\n",
      "       [8., 7., 3., 3.]])]\n",
      "[[0. 9.]\n",
      " [3. 7.]\n",
      " [2. 9.]\n",
      " [6. 8.]\n",
      " [8. 0.]\n",
      " [7. 3.]\n",
      " [0. 4.]\n",
      " [5. 5.]\n",
      " [5. 1.]\n",
      " [1. 3.]\n",
      " [8. 7.]\n",
      " [3. 3.]]\n",
      "[array([[0., 9.],\n",
      "       [3., 7.],\n",
      "       [2., 9.],\n",
      "       [6., 8.],\n",
      "       [8., 0.],\n",
      "       [7., 3.]]), array([[0., 4.],\n",
      "       [5., 5.],\n",
      "       [5., 1.],\n",
      "       [1., 3.],\n",
      "       [8., 7.],\n",
      "       [3., 3.]])]\n",
      "------------------------------------\n",
      "[[0. 9. 3. 7. 2. 9. 6. 8. 8. 0. 7. 3.]\n",
      " [0. 4. 5. 5. 5. 1. 1. 3. 8. 7. 3. 3.]]\n",
      "[array([[0., 9., 3.],\n",
      "       [0., 4., 5.]]), array([[7.],\n",
      "       [5.]]), array([[2., 9., 6., 8., 8., 0., 7., 3.],\n",
      "       [5., 1., 1., 3., 8., 7., 3., 3.]])]\n",
      "------------------------------------\n",
      "[[0. 0.]\n",
      " [9. 4.]\n",
      " [3. 5.]\n",
      " [7. 5.]\n",
      " [2. 5.]\n",
      " [9. 1.]\n",
      " [6. 1.]\n",
      " [8. 3.]\n",
      " [8. 8.]\n",
      " [0. 7.]\n",
      " [7. 3.]\n",
      " [3. 3.]]\n",
      "[array([[0., 0.],\n",
      "       [9., 4.],\n",
      "       [3., 5.]]), array([[7., 5.]]), array([[2., 5.],\n",
      "       [9., 1.],\n",
      "       [6., 1.],\n",
      "       [8., 3.],\n",
      "       [8., 8.],\n",
      "       [0., 7.],\n",
      "       [7., 3.],\n",
      "       [3., 3.]])]\n"
     ]
    }
   ],
   "source": [
    "# 切分，要切什么，切成几份\n",
    "a = np.floor(10*np.random.random((2,12)))\n",
    "print(a)\n",
    "# 横着切分（这里是随机的均匀切分）\n",
    "print(np.hsplit(a,3))\n",
    "# 竖着切分（这里是随机的均匀切分）\n",
    "a = a.reshape(12,-1)\n",
    "print(a)\n",
    "print(np.vsplit(a,2))\n",
    "\n",
    "print(\"------------------------------------\")\n",
    "a = a.reshape(2,12)\n",
    "print(a)\n",
    "# 取3，取不到4，取前，取不到后，这里是按照行切分\n",
    "print(np.hsplit(a,(3,4)))\n",
    "print(\"------------------------------------\")\n",
    "a = a.T\n",
    "print(a)\n",
    "print(np.vsplit(a,(3,4)))"
   ]
  },
  {
   "cell_type": "code",
   "execution_count": 5,
   "metadata": {},
   "outputs": [
    {
     "name": "stdout",
     "output_type": "stream",
     "text": [
      "True\n",
      "(3, 4)\n",
      "2114065278816\n",
      "2114065278816\n"
     ]
    }
   ],
   "source": [
    "# 复制\n",
    "a = np.arange(12)\n",
    "b = a\n",
    "print(b is a)\n",
    "b.shape = 3,4\n",
    "print(a.shape)\n",
    "# 名字不同，指向同一块内存空间\n",
    "print(id(a))\n",
    "print(id(b))"
   ]
  },
  {
   "cell_type": "code",
   "execution_count": 7,
   "metadata": {},
   "outputs": [
    {
     "name": "stdout",
     "output_type": "stream",
     "text": [
      "False\n",
      "(3, 4)\n",
      "[[   0    1    2    3]\n",
      " [1234    5    6    7]\n",
      " [   8    9   10   11]]\n",
      "2114065278816\n",
      "2114065279216\n"
     ]
    }
   ],
   "source": [
    "c = a.view() #视频里面说是浅复制\n",
    "print(c is a)\n",
    "c.shape = 2,6\n",
    "print(a.shape)\n",
    "c[0,4] = 1234\n",
    "# 指向不同，但是共用一套值\n",
    "print(a)\n",
    "print(id(a))\n",
    "print(id(c))"
   ]
  },
  {
   "cell_type": "code",
   "execution_count": 8,
   "metadata": {},
   "outputs": [
    {
     "name": "stdout",
     "output_type": "stream",
     "text": [
      "False\n",
      "[[9999    1    2    3]\n",
      " [1234    5    6    7]\n",
      " [   8    9   10   11]]\n",
      "[[   0    1    2    3]\n",
      " [1234    5    6    7]\n",
      " [   8    9   10   11]]\n"
     ]
    }
   ],
   "source": [
    "# 真正的复制、拷贝，深拷贝\n",
    "d = a.copy()\n",
    "print(d is a)\n",
    "d[0,0] = 9999\n",
    "print(d)\n",
    "print(a)"
   ]
  },
  {
   "cell_type": "code",
   "execution_count": null,
   "metadata": {},
   "outputs": [],
   "source": []
  }
 ],
 "metadata": {
  "kernelspec": {
   "display_name": "Python 3",
   "language": "python",
   "name": "python3"
  },
  "language_info": {
   "codemirror_mode": {
    "name": "ipython",
    "version": 3
   },
   "file_extension": ".py",
   "mimetype": "text/x-python",
   "name": "python",
   "nbconvert_exporter": "python",
   "pygments_lexer": "ipython3",
   "version": "3.7.3"
  }
 },
 "nbformat": 4,
 "nbformat_minor": 2
}
